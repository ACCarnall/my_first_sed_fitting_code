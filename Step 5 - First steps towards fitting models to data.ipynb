{
 "cells": [
  {
   "cell_type": "markdown",
   "metadata": {},
   "source": [
    "# Step 5 - First steps towards fitting models to data\n",
    "\n",
    "In the first three steps we've built up a framework that allows us to load stellar models, filter curves and combine them at any observed redshift, briefly we'll re-input that code, each of the three functions below are condensed versions of the ground we covered in the first three examples respectively."
   ]
  },
  {
   "cell_type": "code",
   "execution_count": 59,
   "metadata": {},
   "outputs": [],
   "source": [
    "import numpy as np\n",
    "\n",
    "from astropy.cosmology import FlatLambdaCDM\n",
    "\n",
    "cosmo = FlatLambdaCDM(H0=70., Om0=0.3)\n",
    "\n",
    "\n",
    "def get_model_grid():\n",
    "    \"\"\" Loads up the BPASS grid of stellar models and resamples it onto a coarser wavelength grid. See Step 1. \"\"\"\n",
    "    \n",
    "    raw_wavelengths = np.loadtxt(\"data/spectra-bin-imf135_300.z020.dat\", usecols=0)\n",
    "    raw_grid = np.loadtxt(\"data/spectra-bin-imf135_300.z020.dat\")[:,1:]\n",
    "    \n",
    "    grid = np.zeros((wavelengths.shape[0], raw_grid.shape[1]))\n",
    "\n",
    "    for i in range(grid.shape[1]):\n",
    "        grid[:,i] = np.interp(wavelengths, raw_wavelengths, raw_grid[:,i])\n",
    "    \n",
    "    grid *= (3.827*10**33)/(10**6)\n",
    "\n",
    "    return grid\n",
    "\n",
    "    \n",
    "def blueshift_filters(redshift):\n",
    "    \"\"\" A function that resamples filters onto the same wavelength\n",
    "    basis as the model spectrum at the specified redshift. See Step 2. \"\"\"\n",
    "    \n",
    "    resampled_filter_curves = []\n",
    "\n",
    "    for filt in filter_curves:\n",
    "        resampled_filt = np.interp(wavelengths, filt[:, 0]/(1 + redshift), filt[:, 1], left=0, right=0)\n",
    "        resampled_filter_curves.append(resampled_filt)\n",
    "        \n",
    "    return resampled_filter_curves\n",
    "\n",
    "\n",
    "def get_model_photometry(redshift, age_index):\n",
    "    \"\"\" For a row in the model grid return model photometry at the specified redshifts. See Step 3. \"\"\"\n",
    "\n",
    "    ssp_model = np.copy(grid[:, age_index])\n",
    "    \n",
    "    luminosity_distance = (3.086*10**24)*cosmo.luminosity_distance(redshift).value\n",
    "\n",
    "    ssp_model /= 4*np.pi*(1 + redshift)*luminosity_distance**2\n",
    "\n",
    "    filter_curves_z = blueshift_filters(redshift)\n",
    "\n",
    "    photometry = np.zeros(len(filter_curves))\n",
    "\n",
    "    for i in range(photometry.shape[0]):\n",
    "        flux_contributions = filter_curves_z[i]*ssp_model\n",
    "        photometry[i] = np.trapz(flux_contributions, x=wavelengths*(1 + redshift))\n",
    "        photometry[i] /= np.trapz(filter_curves_z[i], x=wavelengths*(1 + redshift))\n",
    "        \n",
    "    return photometry\n"
   ]
  },
  {
   "cell_type": "markdown",
   "metadata": {},
   "source": [
    "Let's also re-input the function we wrote in Step 4 to load up observational data."
   ]
  },
  {
   "cell_type": "code",
   "execution_count": 60,
   "metadata": {},
   "outputs": [],
   "source": [
    "def load_data(row_no):\n",
    "    \"\"\" Load UltraVISTA photometry from catalogue. See Step 4. \"\"\"\n",
    "\n",
    "    # load up the relevant columns from the catalogue.\n",
    "    catalogue = np.loadtxt(\"data/UltraVISTA_catalogue.cat\",\n",
    "                         usecols=(0,3,4,5,6,7,8,9,10,11,12,13,14,15,\n",
    "                                  16,17,18,19,20,21,22,23,24,25,26))\n",
    "    \n",
    "    # Extract the object we're interested in from the catalogue.\n",
    "    fluxes = catalogue[row_no, 1:13]\n",
    "    fluxerrs = catalogue[row_no, 13:25]\n",
    "\n",
    "    # Convert to microjanskys\n",
    "    fluxes = fluxes*10**29\n",
    "    fluxerrs = fluxerrs*10**29    \n",
    "\n",
    "    return fluxes, fluxerrs"
   ]
  },
  {
   "cell_type": "markdown",
   "metadata": {},
   "source": [
    "There's also some other basic setting up we should do to define the variables we're going to need."
   ]
  },
  {
   "cell_type": "code",
   "execution_count": 61,
   "metadata": {},
   "outputs": [],
   "source": [
    "# Define our basic quantities.\n",
    "wavelengths = np.arange(1000., 60000., 10.)\n",
    "ages = np.arange(2, 53)\n",
    "ages = 10**(6+0.1*(ages-2))\n",
    "\n",
    "grid = get_model_grid()\n",
    "\n",
    "# Load the curves up.\n",
    "filter_names = [\"data/filters/CFHT_u.txt\",\n",
    "                \"data/filters/CFHT_g.txt\",\n",
    "                \"data/filters/CFHT_r.txt\",\n",
    "                \"data/filters/CFHT_i+i2.txt\",\n",
    "                \"data/filters/CFHT_z.txt\",\n",
    "                \"data/filters/subaru_z\",\n",
    "                \"data/filters/VISTA_Y.txt\",\n",
    "                \"data/filters/VISTA_J.txt\",\n",
    "                \"data/filters/VISTA_H.txt\",\n",
    "                \"data/filters/VISTA_Ks.txt\",\n",
    "                \"data/filters/IRAC1\",\n",
    "                \"data/filters/IRAC2\"]\n",
    "\n",
    "filter_curves = []\n",
    "\n",
    "for name in filter_names:\n",
    "    filter_curves.append(np.loadtxt(name))\n",
    "    \n",
    "eff_wavs = np.zeros(len(filter_curves))\n",
    "\n",
    "# Calculate the effective wavelengths of the filter curves\n",
    "for i in range(len(filter_curves)):\n",
    "    filt = filter_curves[i]\n",
    "\n",
    "    wav_weights = filt[:,1]*filt[:,0]\n",
    "    \n",
    "    eff_wavs[i] = np.trapz(wav_weights, x=filt[:,0])\n",
    "\n",
    "    eff_wavs[i] /= np.trapz(filt[:, 1], x=filt[:,0])"
   ]
  },
  {
   "cell_type": "markdown",
   "metadata": {},
   "source": [
    "# Now that that's over with...\n",
    "\n",
    "Having got all that out of the way let's think about how to go about fitting to data. The simplest way to do this is grid-based fitting. Basically we're going to pick a bunch of redshift, age and mass values making up a 3D grid, then calculate chi-squared values at each point and see which one is smallest. Let's start with a single point to develop the idea.\n",
    "\n",
    "We can only use discrete fixed age values corresponding to the ages we have spectra for in the BPASS model grid, so let's just leave things in terms of the column index in the grid instead of actual ages in years for now."
   ]
  },
  {
   "cell_type": "code",
   "execution_count": 62,
   "metadata": {},
   "outputs": [],
   "source": [
    "mass = 10**10  # Solar masses\n",
    "redshift = 1.\n",
    "age_index = 25\n",
    "\n",
    "# Our photometry is in erg/s/cm^2/A per Solar mass of stars\n",
    "model_photometry = get_model_photometry(redshift, age_index)\n",
    "\n",
    "# Convert to erg/s/cm^2/A by multiplying by the total mass we want.\n",
    "model_photometry *= mass\n",
    "\n",
    "# Our observational data is in microJanskys.\n",
    "fluxes, fluxerrs = load_data(1)"
   ]
  },
  {
   "cell_type": "markdown",
   "metadata": {},
   "source": [
    "Would you look at that, we have a not-at-all-contrived unit mismatch between our model and our photometric data. Converting between flux per unit angstron and flux per unit frequency is the bane of my (and I presume other people in the field's too) existance, I always have to work it out from scratch every time.\n",
    "\n",
    "Let's turn our microJansky observational data into erg/s/cm^2/A and quickly plot the result."
   ]
  },
  {
   "cell_type": "code",
   "execution_count": 63,
   "metadata": {},
   "outputs": [],
   "source": [
    "# Convert from muJy to erg/s/cm^2/Hz.\n",
    "fluxes = fluxes*10**-29\n",
    "fluxerrs = fluxerrs*10**-29\n",
    "\n",
    "fluxes = fluxes*2.9979*10**18/eff_wavs**2\n",
    "fluxerrs = fluxerrs*2.9979*10**18/eff_wavs**2"
   ]
  },
  {
   "cell_type": "code",
   "execution_count": 64,
   "metadata": {},
   "outputs": [
    {
     "data": {
      "image/png": "[encoded data removed]",
      "text/plain": [
       "<Figure size 1080x360 with 1 Axes>"
      ]
     },
     "metadata": {},
     "output_type": "display_data"
    }
   ],
   "source": [
    "import matplotlib.pyplot as plt\n",
    "\n",
    "plt.figure(figsize=(15, 5))\n",
    "plt.errorbar(eff_wavs, fluxes, yerr=fluxerrs, lw=1.0, linestyle=\" \", capsize=3, capthick=1, color=\"black\")\n",
    "plt.scatter(eff_wavs, fluxes, s=75, linewidth=1, facecolor=\"blue\", edgecolor=\"black\")\n",
    "plt.xscale(\"log\")\n",
    "plt.xlim(1000.*(1 + redshift), 60000.*(1 + redshift))\n",
    "plt.show()"
   ]
  },
  {
   "cell_type": "markdown",
   "metadata": {},
   "source": [
    "Ok, now we have our units the same let's calculate a chi-squared value."
   ]
  },
  {
   "cell_type": "code",
   "execution_count": 65,
   "metadata": {},
   "outputs": [
    {
     "name": "stdout",
     "output_type": "stream",
     "text": [
      "Chi-squared value: 3505.00926591\n"
     ]
    }
   ],
   "source": [
    "diffs = fluxes - model_photometry\n",
    "\n",
    "chisq = np.sum(diffs**2/fluxerrs**2)\n",
    "\n",
    "print \"Chi-squared value:\", chisq"
   ]
  },
  {
   "cell_type": "markdown",
   "metadata": {},
   "source": [
    "Not great, let's see if we can iterate towards a better solution. First plot this model over the data."
   ]
  },
  {
   "cell_type": "code",
   "execution_count": 70,
   "metadata": {},
   "outputs": [
    {
     "data": {
      "image/png": "[encoded data removed]",
      "text/plain": [
       "<Figure size 1080x360 with 1 Axes>"
      ]
     },
     "metadata": {},
     "output_type": "display_data"
    }
   ],
   "source": [
    "plt.figure(figsize=(15, 5))\n",
    "plt.errorbar(eff_wavs, fluxes, yerr=fluxerrs, lw=1.0, linestyle=\" \", capsize=3, capthick=1, color=\"black\")\n",
    "plt.scatter(eff_wavs, fluxes, s=75, linewidth=1, facecolor=\"blue\", edgecolor=\"black\")\n",
    "plt.scatter(eff_wavs, model_photometry, s=75, facecolor=\"orange\")\n",
    "plt.xscale(\"log\")\n",
    "plt.xlim(1000.*(1 + redshift), 60000.*(1 + redshift))\n",
    "plt.show()"
   ]
  },
  {
   "cell_type": "markdown",
   "metadata": {},
   "source": [
    "Whilst it may not be obvious if you're new to this, once you've spent a long time looking at these kind of plots you'll be able to tell that it looks like the redshift is pretty good, but we've underestimated the age and the mass. Let's try again by stepping up by 0.5 dex in mass and 5 in our age index."
   ]
  },
  {
   "cell_type": "code",
   "execution_count": 71,
   "metadata": {},
   "outputs": [
    {
     "name": "stdout",
     "output_type": "stream",
     "text": [
      "Chi-squared value: 164.328666499\n"
     ]
    },
    {
     "data": {
      "image/png": "[encoded data removed]",
      "text/plain": [
       "<Figure size 1080x360 with 1 Axes>"
      ]
     },
     "metadata": {},
     "output_type": "display_data"
    }
   ],
   "source": [
    "mass = 10**10.5  # Solar masses\n",
    "redshift = 1.\n",
    "age_index = 30\n",
    "\n",
    "# Our photometry is in erg/s/cm^2/A per Solar mass of stars\n",
    "model_photometry = get_model_photometry(redshift, age_index)\n",
    "\n",
    "# Convert to erg/s/cm^2/A by multiplying by the total mass we want.\n",
    "model_photometry *= mass\n",
    "\n",
    "diffs = fluxes - model_photometry\n",
    "\n",
    "chisq = np.sum(diffs**2/fluxerrs**2)\n",
    "\n",
    "print \"Chi-squared value:\", chisq\n",
    "\n",
    "plt.figure(figsize=(15, 5))\n",
    "plt.errorbar(eff_wavs, fluxes, yerr=fluxerrs, lw=1.0, linestyle=\" \", capsize=3, capthick=1, color=\"black\")\n",
    "plt.scatter(eff_wavs, fluxes, s=75, linewidth=1, facecolor=\"blue\", edgecolor=\"black\")\n",
    "plt.scatter(eff_wavs, model_photometry, s=75, facecolor=\"orange\", zorder=10)\n",
    "plt.xscale(\"log\")\n",
    "plt.xlim(1000.*(1 + redshift), 60000.*(1 + redshift))\n",
    "plt.show()"
   ]
  },
  {
   "cell_type": "markdown",
   "metadata": {},
   "source": [
    "We're already doing a lot better, but it's still going to take forever to get anywhere this way. Let's go to the next step and iterate over a grid of points in order to make things faster."
   ]
  },
  {
   "cell_type": "code",
   "execution_count": null,
   "metadata": {},
   "outputs": [],
   "source": []
  }
 ],
 "metadata": {
  "kernelspec": {
   "display_name": "Python 2",
   "language": "python",
   "name": "python2"
  },
  "language_info": {
   "codemirror_mode": {
    "name": "ipython",
    "version": 2
   },
   "file_extension": ".py",
   "mimetype": "text/x-python",
   "name": "python",
   "nbconvert_exporter": "python",
   "pygments_lexer": "ipython2",
   "version": "2.7.14"
  }
 },
 "nbformat": 4,
 "nbformat_minor": 2
}
