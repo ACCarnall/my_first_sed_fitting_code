{
 "cells": [
  {
   "cell_type": "markdown",
   "metadata": {},
   "source": [
    "# Step 4 - Loading observational data\n",
    "\n",
    "We've now developed everything we need to start fitting. All we need is some data to try it out on. I've uploaded a few objects from UltraVISTA to practice on to a catalogue in the \"data\" folder called \"UltraVISTA_catalogue.cat\". Let's write some code to load the data up."
   ]
  },
  {
   "cell_type": "code",
   "execution_count": 5,
   "metadata": {},
   "outputs": [],
   "source": [
    "import numpy as np\n",
    "\n",
    "def load_data(row_no):\n",
    "    \"\"\" Load UltraVISTA photometry from catalogue. See Step 4. \"\"\"\n",
    "\n",
    "    # load up the relevant columns from the catalogue.\n",
    "    catalogue = np.loadtxt(\"data/UltraVISTA_catalogue.cat\",\n",
    "                         usecols=(0,3,4,5,6,7,8,9,10,11,12,13,14,15,\n",
    "                                  16,17,18,19,20,21,22,23,24,25,26))\n",
    "    \n",
    "    # Extract the object we're interested in from the catalogue.\n",
    "    fluxes = catalogue[row_no, 1:13]\n",
    "    fluxerrs = catalogue[row_no, 13:25]\n",
    "\n",
    "    # Convert to microjanskys\n",
    "    fluxes = fluxes*10**29\n",
    "    fluxerrs = fluxerrs*10**29    \n",
    "\n",
    "    return fluxes, fluxerrs\n",
    "\n",
    "fluxes, fluxerrs = load_data(1)"
   ]
  },
  {
   "cell_type": "markdown",
   "metadata": {},
   "source": [
    "I guess that's all there is to it, moving quickly on..."
   ]
  },
  {
   "cell_type": "code",
   "execution_count": null,
   "metadata": {},
   "outputs": [],
   "source": []
  }
 ],
 "metadata": {
  "kernelspec": {
   "display_name": "Python 2",
   "language": "python",
   "name": "python2"
  },
  "language_info": {
   "codemirror_mode": {
    "name": "ipython",
    "version": 2
   },
   "file_extension": ".py",
   "mimetype": "text/x-python",
   "name": "python",
   "nbconvert_exporter": "python",
   "pygments_lexer": "ipython2",
   "version": "2.7.14"
  }
 },
 "nbformat": 4,
 "nbformat_minor": 2
}
