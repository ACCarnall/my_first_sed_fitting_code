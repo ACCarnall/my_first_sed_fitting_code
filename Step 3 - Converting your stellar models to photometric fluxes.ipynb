{
 "cells": [
  {
   "cell_type": "markdown",
   "metadata": {},
   "source": [
    "# Step 3 - Converting your stellar models to photometric fluxes\n",
    "\n",
    "In Step 1 we saw how to get hold of our stellar models and to put them in a usable form. In summary we had the following."
   ]
  },
  {
   "cell_type": "code",
   "execution_count": 1,
   "metadata": {},
   "outputs": [],
   "source": [
    "import numpy as np\n",
    "\n",
    "wavelengths = np.arange(1000., 60000., 10.)\n",
    "\n",
    "ages = np.arange(2, 53)\n",
    "ages = 10**(6+0.1*(ages-2))\n",
    "\n",
    "def get_model_grid():\n",
    "    \"\"\" Loads up the BPASS grid of stellar models and\n",
    "    resamples it onto a coarser wavelength grid. See Step 1.\"\"\"\n",
    "    \n",
    "    model_path = \"data/spectra-bin-imf135_300.z020.dat\"\n",
    "    raw_wavelengths = np.loadtxt(model_path, usecols=0)\n",
    "    raw_grid = np.loadtxt(model_path)[:,1:]\n",
    "    \n",
    "    grid = np.zeros((wavelengths.shape[0], raw_grid.shape[1]))\n",
    "\n",
    "    for i in range(grid.shape[1]):\n",
    "        grid[:,i] = np.interp(wavelengths, raw_wavelengths, raw_grid[:,i])\n",
    "    \n",
    "    grid *= (3.827*10**33)/(10**6)\n",
    "\n",
    "    return grid\n",
    "\n",
    "grid = get_model_grid()"
   ]
  },
  {
   "cell_type": "markdown",
   "metadata": {},
   "source": [
    "Then, in Step 2 we saw how to load filter curves and resample them in such a way they can be trivially integrated over our spectrum at different observed redshifts. Briefly we had the following."
   ]
  },
  {
   "cell_type": "code",
   "execution_count": 2,
   "metadata": {},
   "outputs": [],
   "source": [
    "# Load the curves up\n",
    "filter_names = [\"data/filters/CFHT_u.txt\",\n",
    "                \"data/filters/CFHT_g.txt\",\n",
    "                \"data/filters/CFHT_r.txt\",\n",
    "                \"data/filters/CFHT_i+i2.txt\",\n",
    "                \"data/filters/CFHT_z.txt\",\n",
    "                \"data/filters/subaru_z\",\n",
    "                \"data/filters/VISTA_Y.txt\",\n",
    "                \"data/filters/VISTA_J.txt\",\n",
    "                \"data/filters/VISTA_H.txt\",\n",
    "                \"data/filters/VISTA_Ks.txt\",\n",
    "                \"data/filters/IRAC1\",\n",
    "                \"data/filters/IRAC2\"]\n",
    "\n",
    "filter_curves = []\n",
    "\n",
    "for name in filter_names:\n",
    "    filter_curves.append(np.loadtxt(name))\n",
    "    \n",
    "    \n",
    "def blueshift_filters(redshift):\n",
    "    \"\"\" A function that resamples filters onto the same wavelength\n",
    "    basis as the model spectrum at the specified redshift. See Step 2. \"\"\"\n",
    "        \n",
    "    resampled_filter_curves = []\n",
    "\n",
    "    for filt in filter_curves:\n",
    "        blueshifted_wavs = filt[:, 0]/(1 + redshift)\n",
    "        \n",
    "        resampled_filt = np.interp(wavelengths,\n",
    "                                   blueshifted_wavs, filt[:, 1],\n",
    "                                   left=0, right=0)\n",
    "        \n",
    "        resampled_filter_curves.append(resampled_filt)\n",
    "        \n",
    "    return resampled_filter_curves"
   ]
  },
  {
   "cell_type": "markdown",
   "metadata": {},
   "source": [
    "Now we can think about how we're going to generate the photometry we want to fit to our observational data for a given redshift and age. All we really need to do is convert the luminosity units (erg/s/A per Solar mass of stars) into flux units (erg/s/cm^2/A per Solar mass of stars) at the observed redshift and integrate over the filter curves.\n",
    "\n",
    "To convert to flux units at the observed redshifts we need to divide our luminosity by 4*pi*luminosity_distance(z)^2, and then divide by (1+redshift) to account for the spreading out of the light. We can calculate the luminosity distance using the astropy.cosmology module, we'll use redshift 1 for this example and take a random SSP from our model grid."
   ]
  },
  {
   "cell_type": "code",
   "execution_count": 3,
   "metadata": {},
   "outputs": [],
   "source": [
    "from astropy.cosmology import FlatLambdaCDM\n",
    "\n",
    "cosmo = FlatLambdaCDM(H0=70., Om0=0.3)\n",
    "\n",
    "ssp_model = grid[:,25]\n",
    "\n",
    "redshift = 1.\n",
    "\n",
    "# Comes in megaparsecs\n",
    "luminosity_distance = cosmo.luminosity_distance(redshift).value\n",
    "\n",
    "cm_per_Mpc = 3.086*10**24\n",
    "\n",
    "# Convert to centimetres\n",
    "luminosity_distance *= cm_per_Mpc\n",
    "\n",
    "# Spread out the total flux emitted across a sphere \n",
    "# with the luminosity distance as its radius.\n",
    "ssp_model /= 4*np.pi*luminosity_distance**2\n",
    "\n",
    "# Account for the fact the same amount of light is\n",
    "# now spread out over a larger wavelength interval.\n",
    "ssp_model /= (1 + redshift)"
   ]
  },
  {
   "cell_type": "code",
   "execution_count": 4,
   "metadata": {},
   "outputs": [
    {
     "data": {
      "text/plain": [
       "<Figure size 1500x500 with 1 Axes>"
      ]
     },
     "metadata": {},
     "output_type": "display_data"
    }
   ],
   "source": [
    "import matplotlib.pyplot as plt\n",
    "\n",
    "plt.figure(figsize=(15, 5))\n",
    "plt.plot(wavelengths*(1 + redshift), ssp_model)\n",
    "plt.xscale(\"log\")\n",
    "plt.xlim(1000.*(1 + redshift), 60000.*(1 + redshift))\n",
    "plt.show()"
   ]
  },
  {
   "cell_type": "markdown",
   "metadata": {},
   "source": [
    "Ok perfect, we have the spectrum in erg/s/cm^2/A per Solar mass of stars. Now let's turn this spectrum into photometric fluxes by integrating over our filters."
   ]
  },
  {
   "cell_type": "code",
   "execution_count": 7,
   "metadata": {},
   "outputs": [
    {
     "name": "stdout",
     "output_type": "stream",
     "text": [
      "[1.70556390e-28 1.22418720e-28 1.21928408e-28 1.88638259e-28\n",
      " 2.40590592e-28 2.32584522e-28 1.83593131e-28 1.28474056e-28\n",
      " 8.88042928e-29 7.15361305e-29 3.80909712e-29 1.73792233e-29]\n"
     ]
    }
   ],
   "source": [
    "filter_curves_z = blueshift_filters(redshift)\n",
    "\n",
    "photometry = np.zeros(len(filter_curves))\n",
    "\n",
    "redshifted_wavs = wavelengths*(1 + redshift)\n",
    "\n",
    "for i in range(photometry.shape[0]):\n",
    "    flux_contributions = filter_curves_z[i]*ssp_model\n",
    "    photometry[i] = np.trapz(flux_contributions, x=redshifted_wavs)\n",
    "    photometry[i] /= np.trapz(filter_curves_z[i], x=redshifted_wavs)\n",
    "    \n",
    "print photometry"
   ]
  },
  {
   "cell_type": "markdown",
   "metadata": {},
   "source": [
    "Great, now we know how to generate photometric fluxes! We can plot these on top of the spectrum to prove everything's working, we'll calculate the effective wavelengths of the filters quickly so we know where on the x axis the points go."
   ]
  },
  {
   "cell_type": "code",
   "execution_count": 8,
   "metadata": {},
   "outputs": [
    {
     "data": {
      "image/png": "[encoded data removed]",
      "text/plain": [
       "<Figure size 1080x360 with 1 Axes>"
      ]
     },
     "metadata": {},
     "output_type": "display_data"
    }
   ],
   "source": [
    "eff_wavs = np.zeros(len(filter_curves))\n",
    "\n",
    "# Calculate the effective wavelengths of the filter curves\n",
    "for i in range(len(filter_curves)):\n",
    "    filt = filter_curves[i]\n",
    "\n",
    "    wav_weights = filt[:,1]*filt[:,0]\n",
    "    \n",
    "    eff_wavs[i] = np.trapz(wav_weights, x=filt[:,0])\n",
    "\n",
    "    eff_wavs[i] /= np.trapz(filt[:, 1], x=filt[:,0])\n",
    "\n",
    "# Plot the model photometry over the model spectrum\n",
    "plt.figure(figsize=(15, 5))\n",
    "plt.plot(wavelengths*(1 + redshift), ssp_model)\n",
    "plt.scatter(eff_wavs, photometry, color=\"red\", s=250, zorder=10)\n",
    "plt.xscale(\"log\")\n",
    "plt.xlim(1000.*(1 + redshift), 60000.*(1 + redshift))\n",
    "plt.show()"
   ]
  },
  {
   "cell_type": "code",
   "execution_count": null,
   "metadata": {},
   "outputs": [],
   "source": []
  }
 ],
 "metadata": {
  "kernelspec": {
   "display_name": "Python 2",
   "language": "python",
   "name": "python2"
  },
  "language_info": {
   "codemirror_mode": {
    "name": "ipython",
    "version": 2
   },
   "file_extension": ".py",
   "mimetype": "text/x-python",
   "name": "python",
   "nbconvert_exporter": "python",
   "pygments_lexer": "ipython2",
   "version": "2.7.14"
  }
 },
 "nbformat": 4,
 "nbformat_minor": 2
}
